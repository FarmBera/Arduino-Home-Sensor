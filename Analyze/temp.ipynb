{
 "cells": [
  {
   "cell_type": "code",
   "execution_count": null,
   "metadata": {},
   "outputs": [],
   "source": [
    "from datetime import datetime, timedelta\n",
    "import os"
   ]
  },
  {
   "cell_type": "code",
   "execution_count": null,
   "metadata": {},
   "outputs": [],
   "source": [
    "dir_master = \"../data/\"  # master path\n",
    "font_path = \"NanumBarunGothic-YetHangul.otf\"\n",
    "\n",
    "file_list: list = []\n",
    "userInput = None\n",
    "FILE_PATH: str = None\n",
    "data_list: list = []\n",
    "\n",
    "CURRTIME = str(datetime.now())[2:19].replace(\"-\", \"\").replace(\":\", \"\").replace(\" \", \"-\")\n",
    "print(CURRTIME)"
   ]
  },
  {
   "cell_type": "code",
   "execution_count": null,
   "metadata": {},
   "outputs": [],
   "source": [
    "# 모든 데이터 목록 가져오기\n",
    "def GetDataList():\n",
    "    global file_list\n",
    "    file_list = os.listdir(dir_master)  # 파일 목록 가져오기\n",
    "    file_list.sort()  # 정렬\n",
    "\n",
    "    non_txt_files = []  # 텍스트 파일 아닌 폴더, 파일 등 저장\n",
    "\n",
    "    # 텍스트 파일 아닌 폴더, 파일 등 추출\n",
    "    for item in file_list:\n",
    "        if not item.endswith(\".txt\"):\n",
    "            non_txt_files.append(item)\n",
    "\n",
    "    # .txt 파일 아닌 것들 모두 삭제\n",
    "    for item in non_txt_files:\n",
    "        file_list.pop(file_list.index(item))\n",
    "\n",
    "    # 파일 목록 출력\n",
    "    for i in range(len(file_list)):\n",
    "        print(i, end=\": \")\n",
    "        print(file_list[i])\n",
    "    print(f\"Number Of Files >> {len(file_list)}\")\n",
    "\n",
    "\n",
    "# 처리할 데이터 선택하고 경로 저장\n",
    "def SelectData():\n",
    "    global FILE_PATH, userInput\n",
    "    userInput = int(input(f\"Select File Index{file_list}\"))\n",
    "    print(f\"UserInput >> {userInput}\", end=\", \")\n",
    "    print(f\"Selected >> {file_list[userInput]}\")\n",
    "\n",
    "    FILE_PATH = f\"{dir_master}{file_list[userInput]}\"\n",
    "    print(f\"\\nFile Path Set as >> {FILE_PATH}\")"
   ]
  },
  {
   "cell_type": "code",
   "execution_count": null,
   "metadata": {},
   "outputs": [],
   "source": [
    "def FileOpenRead():\n",
    "    print(f\"Opening {FILE_PATH}\")\n",
    "    global data_list\n",
    "\n",
    "    # 파일 읽기\n",
    "    with open(FILE_PATH, \"r\") as f:\n",
    "        data = f.readlines()\n",
    "    FILE = data\n",
    "    # print(FILE)\n",
    "\n",
    "    data_list = []\n",
    "    for item in FILE:\n",
    "        item = item.replace(\"\\n\", \"\")\n",
    "        item = item.split()\n",
    "        temp = f\"{item[0]} {item[1]}\"\n",
    "        item.insert(0, temp)\n",
    "        temp = [\">>\", item[1], item[2]]\n",
    "        for i in temp:\n",
    "            index = item.index(i)\n",
    "            item.pop(index)\n",
    "        data_list.append(item)\n",
    "    # print(data_list)\n",
    "\n",
    "    # print(data_list[0])\n",
    "    MAX = len(data_list)\n",
    "    print(f\"Max Data Length >> {MAX}\")"
   ]
  },
  {
   "cell_type": "code",
   "execution_count": null,
   "metadata": {},
   "outputs": [],
   "source": [
    "GetDataList()\n",
    "SelectData()\n",
    "FileOpenRead()"
   ]
  },
  {
   "cell_type": "code",
   "execution_count": null,
   "metadata": {},
   "outputs": [],
   "source": [
    "len(data_list)"
   ]
  }
 ],
 "metadata": {
  "kernelspec": {
   "display_name": "Python 3",
   "language": "python",
   "name": "python3"
  },
  "language_info": {
   "codemirror_mode": {
    "name": "ipython",
    "version": 3
   },
   "file_extension": ".py",
   "mimetype": "text/x-python",
   "name": "python",
   "nbconvert_exporter": "python",
   "pygments_lexer": "ipython3",
   "version": "3.9.13"
  }
 },
 "nbformat": 4,
 "nbformat_minor": 2
}
