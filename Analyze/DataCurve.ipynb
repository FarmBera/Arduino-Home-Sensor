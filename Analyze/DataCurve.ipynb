{
 "cells": [
  {
   "cell_type": "markdown",
   "metadata": {},
   "source": [
    "# 데이터 보정을 위한 코드\n"
   ]
  },
  {
   "cell_type": "markdown",
   "metadata": {},
   "source": [
    "## Import\n"
   ]
  },
  {
   "cell_type": "code",
   "execution_count": null,
   "metadata": {},
   "outputs": [],
   "source": [
    "from datetime import datetime, timedelta\n",
    "import os"
   ]
  },
  {
   "cell_type": "markdown",
   "metadata": {},
   "source": [
    "## Select Data\n"
   ]
  },
  {
   "cell_type": "code",
   "execution_count": null,
   "metadata": {},
   "outputs": [],
   "source": [
    "dir_path = \"../data/\"\n",
    "file_list = os.listdir(dir_path)\n",
    "# print(file_list)\n",
    "file_list.sort()\n",
    "\n",
    "non_txt_files = []\n",
    "\n",
    "for item in file_list:\n",
    "    if not item.endswith(\".txt\"):\n",
    "        non_txt_files.append(item)\n",
    "# print(file_list)\n",
    "\n",
    "if len(file_list) == len(non_txt_files):\n",
    "    raise EOFError(f\"{dir_path}에 데이터가 없습니다!\")\n",
    "\n",
    "\n",
    "for item in non_txt_files:\n",
    "    file_list.pop(file_list.index(item))\n",
    "# print(file_list)\n",
    "\n",
    "for i in range(len(file_list)):\n",
    "    print(i, end=\": \")\n",
    "    print(file_list[i])\n",
    "print(f\"Max Length >> {len(file_list)}\")\n",
    "\n",
    "\n",
    "userInput = int(input(f\"Select File Index{file_list}\"))\n",
    "print(f\"UserInput >> {userInput}\", end=\", \")\n",
    "print(f\"Selected >> {file_list[userInput]}\")"
   ]
  },
  {
   "cell_type": "markdown",
   "metadata": {},
   "source": [
    "## Set File\n"
   ]
  },
  {
   "cell_type": "code",
   "execution_count": null,
   "metadata": {},
   "outputs": [],
   "source": [
    "file_path_master = \"../data/\"\n",
    "print(file_list[userInput])\n",
    "\n",
    "FILE_PATH = f\"{file_path_master}{file_list[userInput]}\"\n",
    "print(f\"File Path Set >> {FILE_PATH}\")"
   ]
  },
  {
   "cell_type": "markdown",
   "metadata": {},
   "source": [
    "## Open File\n"
   ]
  },
  {
   "cell_type": "code",
   "execution_count": null,
   "metadata": {},
   "outputs": [],
   "source": [
    "with open(FILE_PATH, \"r\") as f:\n",
    "    data = f.readlines()\n",
    "# print(data)\n",
    "\n",
    "for item in data:\n",
    "    print(item.replace(\"\\n\", \"\"))"
   ]
  },
  {
   "cell_type": "code",
   "execution_count": null,
   "metadata": {},
   "outputs": [],
   "source": [
    "print(len(data))"
   ]
  },
  {
   "cell_type": "markdown",
   "metadata": {},
   "source": [
    "## Processing\n"
   ]
  },
  {
   "cell_type": "code",
   "execution_count": null,
   "metadata": {},
   "outputs": [],
   "source": [
    "def replace_datetime(ref, origin, start, end):\n",
    "    before_num_1 = int(ref[0:2])  # date\n",
    "    before_num_2 = int(ref[3:5])  # month\n",
    "    before_num_3 = int(ref[6:10])  # year\n",
    "    before_num_4 = int(ref[start:end])  # hour\n",
    "    # before_num_5 = int(ref[start + 3 : end + 3])  # minute (14~16)\n",
    "    before_num_5 = int(ref[14:16])  # minute (14~16)\n",
    "    print(before_num_1)\n",
    "    print(before_num_2)\n",
    "    print(before_num_3)\n",
    "    print(before_num_4)\n",
    "    print(before_num_5)\n",
    "\n",
    "    zeroCheck = lambda x: x if x >= 10 else f\"0{x}\"\n",
    "\n",
    "    current_date = datetime(\n",
    "        before_num_3, before_num_2, before_num_1, before_num_4, before_num_5, 0\n",
    "    )\n",
    "    new_date = current_date + timedelta(minutes=1)\n",
    "    # before_num_1 = zeroCheck(new_date.day)\n",
    "    # before_num_2 = zeroCheck(new_date.month)\n",
    "    # before_num_3 = zeroCheck(new_date.year)\n",
    "    # before_num_4 = zeroCheck(new_date.hour)\n",
    "    # before_num_5 = zeroCheck(new_date.minute)\n",
    "\n",
    "    # result = f\"{before_num_1}.{before_num_2}.{before_num_3} {before_num_4}:{before_num_5}:00 {origin[20:]}\"\n",
    "    result = f\"{zeroCheck(new_date.day)}.{zeroCheck(new_date.month)}.{zeroCheck(new_date.year)} {zeroCheck(new_date.hour)}:{zeroCheck(new_date.minute)}:00 {origin[20:]}\"\n",
    "    return result\n",
    "\n",
    "\n",
    "def Process(start):\n",
    "    for i in range(start, len(data)):\n",
    "        result = replace_datetime(data[i - 1], data[i], 11, 13)\n",
    "        data[i] = result\n",
    "    # print(data)"
   ]
  },
  {
   "cell_type": "code",
   "execution_count": null,
   "metadata": {},
   "outputs": [],
   "source": [
    "# file_start_index = 1\n",
    "# Process(file_start_index)\n",
    "Process(1)"
   ]
  },
  {
   "cell_type": "markdown",
   "metadata": {},
   "source": [
    "## Save File\n"
   ]
  },
  {
   "cell_type": "code",
   "execution_count": null,
   "metadata": {},
   "outputs": [],
   "source": [
    "def save_array_to_txt(array, file_path):\n",
    "    try:\n",
    "        with open(file_path, \"w\") as file:\n",
    "            for item in array:\n",
    "                file.write(str(item))\n",
    "        print(f\"Successfuly Saved at ({file_path})\")\n",
    "\n",
    "    except Exception as e:\n",
    "        print(f\"Error with {str(e)}\")\n",
    "\n",
    "\n",
    "save_fpath = f'{file_list[userInput].replace(\".txt\", \"\")}_converted.txt'\n",
    "print(save_fpath)\n",
    "save_array_to_txt(data, save_fpath)"
   ]
  },
  {
   "cell_type": "code",
   "execution_count": null,
   "metadata": {},
   "outputs": [],
   "source": [
    "raise Exception(\"End Of File!\")"
   ]
  }
 ],
 "metadata": {
  "kernelspec": {
   "display_name": "Python 3",
   "language": "python",
   "name": "python3"
  },
  "language_info": {
   "codemirror_mode": {
    "name": "ipython",
    "version": 3
   },
   "file_extension": ".py",
   "mimetype": "text/x-python",
   "name": "python",
   "nbconvert_exporter": "python",
   "pygments_lexer": "ipython3",
   "version": "3.9.13"
  }
 },
 "nbformat": 4,
 "nbformat_minor": 2
}
