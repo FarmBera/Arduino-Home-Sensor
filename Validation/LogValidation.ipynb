{
 "cells": [
  {
   "cell_type": "code",
   "execution_count": 8,
   "metadata": {},
   "outputs": [],
   "source": [
    "# import numpy as np\n",
    "# from datetime import datetime\n",
    "import os"
   ]
  },
  {
   "cell_type": "code",
   "execution_count": 9,
   "metadata": {},
   "outputs": [
    {
     "name": "stdout",
     "output_type": "stream",
     "text": [
      "Max Length >> 6\n",
      "0: data_231224.TXT\n",
      "1: data_231225.txt\n",
      "2: data_231228.txt\n",
      "3: data_231228_1.txt\n",
      "4: data_231228_2.txt\n",
      "5: data_demo_231228.txt\n",
      "\n",
      "UserInput >> 3, Selected >> data_231228_1.txt\n"
     ]
    }
   ],
   "source": [
    "dir_path = \"../data/\"\n",
    "file_list = os.listdir(dir_path)\n",
    "# print(file_list)\n",
    "file_list.sort()\n",
    "file_list.pop(file_list.index(\"deprecated\"))\n",
    "file_list_maxlen = len(file_list)\n",
    "\n",
    "print(f\"Max Length >> {file_list_maxlen}\")\n",
    "for i in range(len(file_list)):\n",
    "    print(i, end=\": \")\n",
    "    print(file_list[i])\n",
    "\n",
    "print()\n",
    "state = True\n",
    "\n",
    "userInput = int(input(f\"Select File Index{file_list}\"))\n",
    "print(f\"UserInput >> {userInput}\", end=\", \")\n",
    "print(f\"Selected >> {file_list[userInput]}\")"
   ]
  },
  {
   "cell_type": "code",
   "execution_count": 10,
   "metadata": {},
   "outputs": [
    {
     "name": "stdout",
     "output_type": "stream",
     "text": [
      "data_231228_1.txt\n",
      "File Path Set >> ../data/data_231228_1.txt\n"
     ]
    }
   ],
   "source": [
    "file_path_master = \"../data/\"\n",
    "print(file_list[userInput])\n",
    "\n",
    "FILE_PATH = f\"{file_path_master}{file_list[userInput]}\"\n",
    "print(f\"File Path Set >> {FILE_PATH}\")"
   ]
  },
  {
   "cell_type": "code",
   "execution_count": 11,
   "metadata": {},
   "outputs": [],
   "source": [
    "# FILE_PATH = \"logfile.txt\"\n",
    "\n",
    "with open(FILE_PATH, \"r\") as f:\n",
    "    data = f.readlines()\n",
    "FILE = data\n",
    "# print(FILE)"
   ]
  },
  {
   "cell_type": "code",
   "execution_count": 12,
   "metadata": {},
   "outputs": [],
   "source": [
    "data = []\n",
    "\n",
    "for item in FILE:\n",
    "    item = int(item[3:5])\n",
    "    # print(item)\n",
    "    data.append(item)\n",
    "\n",
    "# data.append(41)\n",
    "# print(data)"
   ]
  },
  {
   "cell_type": "code",
   "execution_count": 13,
   "metadata": {},
   "outputs": [
    {
     "name": "stdout",
     "output_type": "stream",
     "text": [
      "Valid Exception Exists!\n",
      "28.12.2023 21:16:00 >> 21 51 0.77 34.30\n",
      "28.12.2023 21:17:00 >> 21 51 0.83 46.99\n"
     ]
    }
   ],
   "source": [
    "dataErr = []\n",
    "\n",
    "for i in range(1, len(data) - 1):\n",
    "    if abs(data[i - 1] - data[i]) != 1 or abs(data[i + 1] - data[i]) != 1:\n",
    "        # print(f\"{data[i]}\")\n",
    "        dataErr.append(FILE[i])\n",
    "        # break\n",
    "if dataErr == []:\n",
    "    print(\"No Problem!\")\n",
    "else:\n",
    "    print(\"Valid Exception Exists!\")\n",
    "\n",
    "# print(dataErr)\n",
    "for item in dataErr:\n",
    "    print(item.replace(\"\\n\", \"\"))"
   ]
  },
  {
   "cell_type": "code",
   "execution_count": 14,
   "metadata": {},
   "outputs": [
    {
     "ename": "Exception",
     "evalue": "End Of File!",
     "output_type": "error",
     "traceback": [
      "\u001b[0;31m---------------------------------------------------------------------------\u001b[0m",
      "\u001b[0;31mException\u001b[0m                                 Traceback (most recent call last)",
      "Cell \u001b[0;32mIn[14], line 1\u001b[0m\n\u001b[0;32m----> 1\u001b[0m \u001b[38;5;28;01mraise\u001b[39;00m \u001b[38;5;167;01mException\u001b[39;00m(\u001b[38;5;124m\"\u001b[39m\u001b[38;5;124mEnd Of File!\u001b[39m\u001b[38;5;124m\"\u001b[39m)\n",
      "\u001b[0;31mException\u001b[0m: End Of File!"
     ]
    }
   ],
   "source": [
    "raise Exception(\"End Of File!\")"
   ]
  }
 ],
 "metadata": {
  "kernelspec": {
   "display_name": "Python 3",
   "language": "python",
   "name": "python3"
  },
  "language_info": {
   "codemirror_mode": {
    "name": "ipython",
    "version": 3
   },
   "file_extension": ".py",
   "mimetype": "text/x-python",
   "name": "python",
   "nbconvert_exporter": "python",
   "pygments_lexer": "ipython3",
   "version": "3.9.13"
  }
 },
 "nbformat": 4,
 "nbformat_minor": 2
}
